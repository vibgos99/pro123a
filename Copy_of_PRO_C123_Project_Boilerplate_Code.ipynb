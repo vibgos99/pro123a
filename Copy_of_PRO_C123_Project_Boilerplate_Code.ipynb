{
  "nbformat": 4,
  "nbformat_minor": 0,
  "metadata": {
    "colab": {
      "provenance": [],
      "include_colab_link": true
    },
    "kernelspec": {
      "name": "python3",
      "display_name": "Python 3"
    },
    "language_info": {
      "name": "python"
    }
  },
  "cells": [
    {
      "cell_type": "markdown",
      "metadata": {
        "id": "view-in-github",
        "colab_type": "text"
      },
      "source": [
        "<a href=\"https://colab.research.google.com/github/vibgos99/pro123a/blob/main/Copy_of_PRO_C123_Project_Boilerplate_Code.ipynb\" target=\"_parent\"><img src=\"https://colab.research.google.com/assets/colab-badge.svg\" alt=\"Open In Colab\"/></a>"
      ]
    },
    {
      "cell_type": "markdown",
      "source": [
        "**Archery-Target** is a game in which the players shoot sharp-pointed arrows at a round target having 10 rings.\n",
        "\n",
        "<img src=\"https://s3-whjr-curriculum-uploads.whjr.online/4de9132a-c71d-42ce-9099-3293e8805fd9.jpg\">"
      ],
      "metadata": {
        "id": "nUWO5QkC_g-4"
      }
    },
    {
      "cell_type": "markdown",
      "source": [
        "## RL Problem to Solve\n",
        "Hit the center of the target with maximum reward"
      ],
      "metadata": {
        "id": "5QtHLAqv3wP3"
      }
    },
    {
      "cell_type": "markdown",
      "source": [
        "<img src=\"https://s3-whjr-curriculum-uploads.whjr.online/40656a8c-14e2-4dd7-9f9e-4c17669b9182.png\" width=300>\n",
        "\n",
        "\n",
        "Number of **State**: ?\n",
        "\n",
        "Number of **Actions**: ?\n",
        "\n"
      ],
      "metadata": {
        "id": "Osb6FQ74YZtE"
      }
    },
    {
      "cell_type": "markdown",
      "source": [
        "## Rewards"
      ],
      "metadata": {
        "id": "m3Ut2W9A4EiB"
      }
    },
    {
      "cell_type": "code",
      "source": [
        "#import required libraries\n",
        "import numpy as np\n",
        "import random\n",
        "\n",
        "\n"
      ],
      "metadata": {
        "id": "PqX3v26eEt0T"
      },
      "execution_count": null,
      "outputs": []
    },
    {
      "cell_type": "markdown",
      "source": [
        "## Reward Matrix\n",
        "Reward Matrix represents states as rows and actions as columns with respective awards values assigned for a given state and action pair."
      ],
      "metadata": {
        "id": "Ujmi3BO54LfJ"
      }
    },
    {
      "cell_type": "code",
      "source": [
        "#Create reward matrix\n",
        "rewards=np.array([\n",
        "    [0,10,20,30,40,50,60,70,80,90,100],\n",
        "    [20,40,60,80,100,30,50,10,70,90,0],\n",
        "    [10,30,50,70,90,20,0,60,80,40,100],\n",
        "    [100,90,80,0,70,60,50,40,30,20,10],\n",
        "    [60,70,10,0,20,40,0,30,50,90,80,100],\n",
        "    [10,0,20,30,40,50,60,70,80,90,100]\n",
        "])\n",
        "\n",
        "\n",
        "\n"
      ],
      "metadata": {
        "id": "khJ1RqL3Eksu",
        "outputId": "2d68856c-643b-4e65-d18c-a4ebaff8dfc7",
        "colab": {
          "base_uri": "https://localhost:8080/"
        }
      },
      "execution_count": null,
      "outputs": [
        {
          "output_type": "stream",
          "name": "stderr",
          "text": [
            "<ipython-input-13-84f8085c94cb>:2: VisibleDeprecationWarning: Creating an ndarray from ragged nested sequences (which is a list-or-tuple of lists-or-tuples-or ndarrays with different lengths or shapes) is deprecated. If you meant to do this, you must specify 'dtype=object' when creating the ndarray.\n",
            "  rewards=np.array([\n"
          ]
        }
      ]
    },
    {
      "cell_type": "markdown",
      "source": [
        "## Take Action Randomly"
      ],
      "metadata": {
        "id": "Af-CAmdfkDQY"
      }
    },
    {
      "cell_type": "code",
      "source": [
        "#Define a function shoot() for taking random action\n",
        "def initial_state():\n",
        "  return np.random.randint(0,6)\n",
        "\n",
        "\n",
        "\n",
        "\n"
      ],
      "metadata": {
        "id": "ibSLCyMyigmK"
      },
      "execution_count": null,
      "outputs": []
    },
    {
      "cell_type": "code",
      "source": [
        "def shoot(current_state,reward_matrix):\n",
        "  available_action=[]\n",
        "  print(\"reward_matrix\",\"\\n\",reward_matrix)\n",
        "  for action in enumerate(reward_matrix[current_state]):\n",
        "    if action[1]!= -1:\n",
        "      available_action.append(action[0])\n",
        "  choose_action=random.choice(available_action)\n",
        "  print(\"random choice of action from \",available_action,\"is\",choose_action)\n",
        "  return choose_action"
      ],
      "metadata": {
        "id": "LQR_lK9rJSxV"
      },
      "execution_count": null,
      "outputs": []
    },
    {
      "cell_type": "code",
      "source": [
        "\n",
        "current_state=3\n",
        "action=shoot(current_state,rewards)\n",
        "print(action)"
      ],
      "metadata": {
        "id": "HH_96Xx9Jb94",
        "outputId": "3ec481f3-fc05-4dd6-840d-b1bbcb72aae1",
        "colab": {
          "base_uri": "https://localhost:8080/"
        }
      },
      "execution_count": null,
      "outputs": [
        {
          "output_type": "stream",
          "name": "stdout",
          "text": [
            "reward_matrix \n",
            " [list([0, 10, 20, 30, 40, 50, 60, 70, 80, 90, 100])\n",
            " list([20, 40, 60, 80, 100, 30, 50, 10, 70, 90, 0])\n",
            " list([10, 30, 50, 70, 90, 20, 0, 60, 80, 40, 100])\n",
            " list([100, 90, 80, 0, 70, 60, 50, 40, 30, 20, 10])\n",
            " list([60, 70, 10, 0, 20, 40, 0, 30, 50, 90, 80, 100])\n",
            " list([10, 0, 20, 30, 40, 50, 60, 70, 80, 90, 100])]\n",
            "random choice of action from  [0, 1, 2, 3, 4, 5, 6, 7, 8, 9, 10] is 2\n",
            "2\n"
          ]
        }
      ]
    }
  ]
}